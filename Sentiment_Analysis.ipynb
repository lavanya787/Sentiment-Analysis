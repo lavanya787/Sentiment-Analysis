{
  "nbformat": 4,
  "nbformat_minor": 0,
  "metadata": {
    "colab": {
      "provenance": []
    },
    "kernelspec": {
      "name": "python3",
      "display_name": "Python 3"
    },
    "language_info": {
      "name": "python"
    }
  },
  "cells": [
    {
      "cell_type": "code",
      "execution_count": 9,
      "metadata": {
        "colab": {
          "base_uri": "https://localhost:8080/"
        },
        "id": "VeO03NLjdWUs",
        "outputId": "791286e0-7da2-4349-8ac9-ca888ed8cce8"
      },
      "outputs": [
        {
          "output_type": "stream",
          "name": "stderr",
          "text": [
            "[nltk_data] Downloading package movie_reviews to /root/nltk_data...\n",
            "[nltk_data]   Package movie_reviews is already up-to-date!\n"
          ]
        },
        {
          "output_type": "execute_result",
          "data": {
            "text/plain": [
              "True"
            ]
          },
          "metadata": {},
          "execution_count": 9
        }
      ],
      "source": [
        "import nltk\n",
        "nltk.download(\"movie_reviews\")"
      ]
    },
    {
      "cell_type": "code",
      "source": [
        "from nltk.corpus import movie_reviews\n",
        "from nltk.classify import NaiveBayesClassifier\n",
        "from nltk.classify.util import accuracy"
      ],
      "metadata": {
        "id": "zjoLFRRle6RH"
      },
      "execution_count": 10,
      "outputs": []
    },
    {
      "cell_type": "code",
      "source": [
        "#Load Dataset\n",
        "nltk.download(\"movie-reviews\")\n",
        "documents = [(list(movie_reviews.words(fileid)),category)\n",
        "              for category in movie_reviews.categories()\n",
        "              for fileid in movie_reviews.fileids(category)]"
      ],
      "metadata": {
        "colab": {
          "base_uri": "https://localhost:8080/"
        },
        "id": "B0Z_8fzNfJsz",
        "outputId": "b08974ab-b491-483c-c833-88caf6b68d58"
      },
      "execution_count": 11,
      "outputs": [
        {
          "output_type": "stream",
          "name": "stderr",
          "text": [
            "[nltk_data] Error loading movie-reviews: Package 'movie-reviews' not\n",
            "[nltk_data]     found in index\n"
          ]
        }
      ]
    },
    {
      "cell_type": "code",
      "source": [
        "#Split dataset\n",
        "train = documents[:1500]\n",
        "test = documents[:1500] "
      ],
      "metadata": {
        "id": "Hlj_ftKVgO5m"
      },
      "execution_count": 12,
      "outputs": []
    },
    {
      "cell_type": "code",
      "source": [
        "#define feature extract\n",
        "def word_features(words):\n",
        "  return dict([(word,True) for word in words])"
      ],
      "metadata": {
        "id": "TLfJ809dgl9j"
      },
      "execution_count": 13,
      "outputs": []
    },
    {
      "cell_type": "code",
      "source": [
        "#Extract Features from text\n",
        "training_features = [(word_features(doc),category) for (doc,category)in train]\n",
        "testing_features = [(word_features(doc),category) for (doc,category) in test]"
      ],
      "metadata": {
        "id": "uqH3NetUg3Ex"
      },
      "execution_count": 14,
      "outputs": []
    },
    {
      "cell_type": "code",
      "source": [
        "#Naive Bayes Classifier\n",
        "Classifier = NaiveBayesClassifier.train(training_features)"
      ],
      "metadata": {
        "id": "nnRjgcJxiBr5"
      },
      "execution_count": 15,
      "outputs": []
    },
    {
      "cell_type": "code",
      "source": [
        "#Eavaluate accuracy of Classifier\n",
        "print(\"Accuracy:\",accuracy(Classifier,testing_features))"
      ],
      "metadata": {
        "colab": {
          "base_uri": "https://localhost:8080/"
        },
        "id": "49UZvZmUisfS",
        "outputId": "c7500caa-895f-4eaa-cd48-e9a6e22d4660"
      },
      "execution_count": 16,
      "outputs": [
        {
          "output_type": "stream",
          "name": "stdout",
          "text": [
            "Accuracy: 0.9753333333333334\n"
          ]
        }
      ]
    }
  ]
}